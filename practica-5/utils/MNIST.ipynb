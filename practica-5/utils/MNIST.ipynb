{
 "cells": [
  {
   "cell_type": "code",
   "execution_count": 1,
   "id": "0c33ede8",
   "metadata": {},
   "outputs": [],
   "source": [
    "from tensorflow.keras.datasets import mnist\n",
    "\n",
    "from tensorflow.keras.models import Sequential\n",
    "from tensorflow.keras.utils import to_categorical\n",
    "from tensorflow.keras.callbacks import EarlyStopping\n",
    "from tensorflow.keras.layers import Dense, Flatten, Conv2D, MaxPooling2D, Input\n",
    "import numpy as np\n",
    "import matplotlib.pyplot as plt"
   ]
  },
  {
   "cell_type": "code",
   "execution_count": 2,
   "id": "8eec5cf6",
   "metadata": {},
   "outputs": [
    {
     "name": "stdout",
     "output_type": "stream",
     "text": [
      "(60000, 28, 28)\n",
      "(60000,)\n"
     ]
    }
   ],
   "source": [
    "input_shape = (28, 28, 1)\n",
    "\n",
    "(X_train, Y_train), (X_test, Y_test) = mnist.load_data()\n",
    "print(X_train.shape)\n",
    "print(Y_train.shape)"
   ]
  },
  {
   "cell_type": "code",
   "execution_count": 3,
   "id": "d91357e9",
   "metadata": {},
   "outputs": [
    {
     "name": "stdout",
     "output_type": "stream",
     "text": [
      "(60000, 28, 28, 1)\n",
      "(60000, 10)\n",
      "[[[  0   0   0   0   0   0   0   0   0   0   0   0   0   0   0   0   0\n",
      "     0   0   0   0   0   0   0   0   0   0   0]\n",
      "  [  0   0   0   0   0   0   0   0   0   0   0   0   0   0   0   0   0\n",
      "     0   0   0   0   0   0   0   0   0   0   0]\n",
      "  [  0   0   0   0   0   0   0   0   0   0   0   0   0   0   0   0   0\n",
      "     0   0   0   0   0   0   0   0   0   0   0]\n",
      "  [  0   0   0   0   0   0   0   0   0   0   0   0   0   0   0   0   0\n",
      "     0   0   0   0   0   0   0   0   0   0   0]\n",
      "  [  0   0   0   0   0   0   0   0   0   0   0   0   0   0   0   0   0\n",
      "     0   0   0   0   0   0   0   0   0   0   0]\n",
      "  [  0   0   0   0   0   0   0   0   0   0   0   0   0   0   0   0   0\n",
      "     0   0   0   0   0   0   0   0   0   0   0]\n",
      "  [  0   0   0   0   0   0   0   0   0   0   0   0   0   0   0  76  85\n",
      "    85  85  86  85  85  28   0   0   0   0   0]\n",
      "  [  0   0   0   0   0   0   0   0   0   0   0   0   7  57 198 246 252\n",
      "   252 252 253 252 252 199  25   0   0   0   0]\n",
      "  [  0   0   0   0   0   0   0   0   0   0   0  38 178 252 253 252 230\n",
      "   223 145 225 249 252 252 128   0   0   0   0]\n",
      "  [  0   0   0   0   0   0   0   0   0   0  48 165 252 252 190 112  25\n",
      "     0   0   0 146 252 252 252   0   0   0   0]\n",
      "  [  0   0   0   0   0   0   0   0   0  51 238 253 240  63   0   0   0\n",
      "     0   0   0  48 229 253 253   0   0   0   0]\n",
      "  [  0   0   0   0   0   0   0  10 163 238 252 233  71   0   0   0   0\n",
      "     0   0   0  29 215 252 252   0   0   0   0]\n",
      "  [  0   0   0   0   0   0   0  60 252 253 252 208  19   0   0   0   0\n",
      "     0   0   0  85 252 252 141   0   0   0   0]\n",
      "  [  0   0   0   0   0   0  54 224 252 253 179  84  28   0   0   0   0\n",
      "     0   0   0 178 252 233  37   0   0   0   0]\n",
      "  [  0   0   0   0   0  48 227 252 252 190  12   0   0   0   0   0   0\n",
      "     0   0   0 225 252 145   0   0   0   0   0]\n",
      "  [  0   0   0   0  51 238 253 253 253 114  75   0   0   0   0   0   0\n",
      "     0   0 114 253 196   0   0   0   0   0   0]\n",
      "  [  0   0   0   0 159 252 252 252 252 253 121   0   0   0   0   0   0\n",
      "     0  48 238 223 130   0   0   0   0   0   0]\n",
      "  [  0   0   0   0 253 252 239 202 252 228  21   0   0   0   0   0   0\n",
      "     7 165 253 167   0   0   0   0   0   0   0]\n",
      "  [  0   0   0   0 159 252 233  84  96  47   0   0   0   0   0   0   7\n",
      "   131 252 162  56   0   0   0   0   0   0   0]\n",
      "  [  0   0   0   0  50 237 252 252 189  79   0   0   0   0   0   0 135\n",
      "   252 173   0   0   0   0   0   0   0   0   0]\n",
      "  [  0   0   0   0   0   0  57 253 253 255 253 253 253 253 255 253 253\n",
      "   225   0   0   0   0   0   0   0   0   0   0]\n",
      "  [  0   0   0   0   0   0   6 122 167 168 243 252 252 252 253 252 186\n",
      "    71   0   0   0   0   0   0   0   0   0   0]\n",
      "  [  0   0   0   0   0   0   0   0   0   0  50 165 195 195 196 148  12\n",
      "     0   0   0   0   0   0   0   0   0   0   0]\n",
      "  [  0   0   0   0   0   0   0   0   0   0   0   0   0   0   0   0   0\n",
      "     0   0   0   0   0   0   0   0   0   0   0]\n",
      "  [  0   0   0   0   0   0   0   0   0   0   0   0   0   0   0   0   0\n",
      "     0   0   0   0   0   0   0   0   0   0   0]\n",
      "  [  0   0   0   0   0   0   0   0   0   0   0   0   0   0   0   0   0\n",
      "     0   0   0   0   0   0   0   0   0   0   0]\n",
      "  [  0   0   0   0   0   0   0   0   0   0   0   0   0   0   0   0   0\n",
      "     0   0   0   0   0   0   0   0   0   0   0]\n",
      "  [  0   0   0   0   0   0   0   0   0   0   0   0   0   0   0   0   0\n",
      "     0   0   0   0   0   0   0   0   0   0   0]]]\n",
      "[1. 0. 0. 0. 0. 0. 0. 0. 0. 0.]\n"
     ]
    }
   ],
   "source": [
    "# Make sure images have shape (28, 28, 1)\n",
    "X_train = np.expand_dims(X_train, -1)\n",
    "X_test = np.expand_dims(X_test, -1)\n",
    "\n",
    "Y_train = to_categorical(Y_train, num_classes = 10)\n",
    "Y_test = to_categorical (Y_test, num_classes = 10)\n",
    "\n",
    "print(X_train.shape)\n",
    "print(Y_train.shape)\n",
    "\n",
    "print(X_train[1].T)\n",
    "print(Y_train[1])"
   ]
  },
  {
   "cell_type": "code",
   "execution_count": 4,
   "id": "848684d5",
   "metadata": {},
   "outputs": [
    {
     "name": "stdout",
     "output_type": "stream",
     "text": [
      "X_train[1].mean() 39.661989795918366\n",
      "X_train[1].std() 83.88715868331147\n"
     ]
    }
   ],
   "source": [
    "print(\"X_train[1].mean()\", X_train[1].mean())\n",
    "print(\"X_train[1].std()\", X_train[1].std())"
   ]
  },
  {
   "cell_type": "code",
   "execution_count": 5,
   "id": "c9a49c66",
   "metadata": {},
   "outputs": [],
   "source": [
    "for i in range(X_train.shape[0]):\n",
    "    X_train[i] = (X_train[i]-X_train[i].mean())/X_train[i].std()\n",
    "    \n",
    "for i in range(X_test.shape[0]):\n",
    "    X_test[i] = (X_test[i]-X_test[i].mean())/X_test[i].std()  "
   ]
  },
  {
   "cell_type": "code",
   "execution_count": 6,
   "id": "5822bdb7",
   "metadata": {},
   "outputs": [
    {
     "name": "stdout",
     "output_type": "stream",
     "text": [
      "[1. 0. 0. 0. 0. 0. 0. 0. 0. 0.]\n",
      "[[[0 0 0 0 0 0 0 0 0 0 0 0 0 0 0 0 0 0 0 0 0 0 0 0 0 0 0 0]\n",
      "  [0 0 0 0 0 0 0 0 0 0 0 0 0 0 0 0 0 0 0 0 0 0 0 0 0 0 0 0]\n",
      "  [0 0 0 0 0 0 0 0 0 0 0 0 0 0 0 0 0 0 0 0 0 0 0 0 0 0 0 0]\n",
      "  [0 0 0 0 0 0 0 0 0 0 0 0 0 0 0 0 0 0 0 0 0 0 0 0 0 0 0 0]\n",
      "  [0 0 0 0 0 0 0 0 0 0 0 0 0 0 0 0 0 0 0 0 0 0 0 0 0 0 0 0]\n",
      "  [0 0 0 0 0 0 0 0 0 0 0 0 0 0 0 0 0 0 0 0 0 0 0 0 0 0 0 0]\n",
      "  [0 0 0 0 0 0 0 0 0 0 0 0 0 0 0 0 0 0 0 0 0 0 0 0 0 0 0 0]\n",
      "  [0 0 0 0 0 0 0 0 0 0 0 0 0 0 1 2 2 2 2 2 2 2 1 0 0 0 0 0]\n",
      "  [0 0 0 0 0 0 0 0 0 0 0 0 1 2 2 2 2 2 1 2 2 2 2 1 0 0 0 0]\n",
      "  [0 0 0 0 0 0 0 0 0 0 0 1 2 2 1 0 0 0 0 0 1 2 2 2 0 0 0 0]\n",
      "  [0 0 0 0 0 0 0 0 0 0 2 2 2 0 0 0 0 0 0 0 0 2 2 2 0 0 0 0]\n",
      "  [0 0 0 0 0 0 0 0 1 2 2 2 0 0 0 0 0 0 0 0 0 2 2 2 0 0 0 0]\n",
      "  [0 0 0 0 0 0 0 0 2 2 2 2 0 0 0 0 0 0 0 0 0 2 2 1 0 0 0 0]\n",
      "  [0 0 0 0 0 0 0 2 2 2 1 0 0 0 0 0 0 0 0 0 1 2 2 0 0 0 0 0]\n",
      "  [0 0 0 0 0 0 2 2 2 1 0 0 0 0 0 0 0 0 0 0 2 2 1 0 0 0 0 0]\n",
      "  [0 0 0 0 0 2 2 2 2 0 0 0 0 0 0 0 0 0 0 0 2 1 0 0 0 0 0 0]\n",
      "  [0 0 0 0 1 2 2 2 2 2 0 0 0 0 0 0 0 0 0 2 2 1 0 0 0 0 0 0]\n",
      "  [0 0 0 0 2 2 2 1 2 2 0 0 0 0 0 0 0 0 1 2 1 0 0 0 0 0 0 0]\n",
      "  [0 0 0 0 1 2 2 0 0 0 0 0 0 0 0 0 0 1 2 1 0 0 0 0 0 0 0 0]\n",
      "  [0 0 0 0 0 2 2 2 1 0 0 0 0 0 0 0 1 2 1 0 0 0 0 0 0 0 0 0]\n",
      "  [0 0 0 0 0 0 0 2 2 2 2 2 2 2 2 2 2 2 0 0 0 0 0 0 0 0 0 0]\n",
      "  [0 0 0 0 0 0 0 0 1 1 2 2 2 2 2 2 1 0 0 0 0 0 0 0 0 0 0 0]\n",
      "  [0 0 0 0 0 0 0 0 0 0 0 1 1 1 1 1 0 0 0 0 0 0 0 0 0 0 0 0]\n",
      "  [0 0 0 0 0 0 0 0 0 0 0 0 0 0 0 0 0 0 0 0 0 0 0 0 0 0 0 0]\n",
      "  [0 0 0 0 0 0 0 0 0 0 0 0 0 0 0 0 0 0 0 0 0 0 0 0 0 0 0 0]\n",
      "  [0 0 0 0 0 0 0 0 0 0 0 0 0 0 0 0 0 0 0 0 0 0 0 0 0 0 0 0]\n",
      "  [0 0 0 0 0 0 0 0 0 0 0 0 0 0 0 0 0 0 0 0 0 0 0 0 0 0 0 0]\n",
      "  [0 0 0 0 0 0 0 0 0 0 0 0 0 0 0 0 0 0 0 0 0 0 0 0 0 0 0 0]]]\n"
     ]
    }
   ],
   "source": [
    "print(Y_train[1])\n",
    "print(X_train[1].T)"
   ]
  },
  {
   "cell_type": "code",
   "execution_count": 12,
   "id": "4ce843a6",
   "metadata": {},
   "outputs": [
    {
     "data": {
      "text/plain": [
       "dtype('uint8')"
      ]
     },
     "execution_count": 12,
     "metadata": {},
     "output_type": "execute_result"
    }
   ],
   "source": [
    "X_train.dtype"
   ]
  },
  {
   "cell_type": "code",
   "execution_count": null,
   "id": "affb6213",
   "metadata": {},
   "outputs": [],
   "source": []
  }
 ],
 "metadata": {
  "kernelspec": {
   "display_name": "Python 3 (ipykernel)",
   "language": "python",
   "name": "python3"
  },
  "language_info": {
   "codemirror_mode": {
    "name": "ipython",
    "version": 3
   },
   "file_extension": ".py",
   "mimetype": "text/x-python",
   "name": "python",
   "nbconvert_exporter": "python",
   "pygments_lexer": "ipython3",
   "version": "3.7.13"
  }
 },
 "nbformat": 4,
 "nbformat_minor": 5
}
