{
 "cells": [
  {
   "cell_type": "code",
   "execution_count": 1,
   "id": "0c33ede8",
   "metadata": {},
   "outputs": [],
   "source": [
    "from tensorflow.keras.datasets import mnist\n",
    "\n",
    "from tensorflow.keras.models import Sequential\n",
    "from tensorflow.keras.utils import to_categorical\n",
    "from tensorflow.keras.callbacks import EarlyStopping\n",
    "from tensorflow.keras.layers import Dense, Flatten, Conv2D, MaxPooling2D, Input\n",
    "import numpy as np\n",
    "from sklearn import metrics\n",
    "import matplotlib.pyplot as plt"
   ]
  },
  {
   "cell_type": "code",
   "execution_count": 2,
   "id": "8eec5cf6",
   "metadata": {},
   "outputs": [],
   "source": [
    "input_shape = (28, 28, 1)\n",
    "\n",
    "(X_train, Y_train), (X_test, Y_test) = mnist.load_data()\n",
    "\n",
    "# Make sure images have shape (28, 28, 1)\n",
    "X_train = np.expand_dims(X_train, -1)\n",
    "X_test = np.expand_dims(X_test, -1)\n",
    "\n",
    "Y_train = to_categorical(Y_train, num_classes = 10)\n",
    "Y_test = to_categorical (Y_test, num_classes = 10)\n",
    "\n",
    "for i in range(X_train.shape[0]):\n",
    "    X_train[i] = (X_train[i]-X_train[i].mean())/X_train[i].std()\n",
    "    \n",
    "for i in range(X_test.shape[0]):\n",
    "    X_test[i] = (X_test[i]-X_test[i].mean())/X_test[i].std()\n"
   ]
  },
  {
   "cell_type": "code",
   "execution_count": 3,
   "id": "593c449a",
   "metadata": {},
   "outputs": [
    {
     "name": "stdout",
     "output_type": "stream",
     "text": [
      "Model: \"sequential\"\n",
      "_________________________________________________________________\n",
      " Layer (type)                Output Shape              Param #   \n",
      "=================================================================\n",
      " conv2d (Conv2D)             (None, 26, 26, 4)         40        \n",
      "                                                                 \n",
      " max_pooling2d (MaxPooling2D  (None, 13, 13, 4)        0         \n",
      " )                                                               \n",
      "                                                                 \n",
      " flatten (Flatten)           (None, 676)               0         \n",
      "                                                                 \n",
      " dense (Dense)               (None, 10)                6770      \n",
      "                                                                 \n",
      "=================================================================\n",
      "Total params: 6,810\n",
      "Trainable params: 6,810\n",
      "Non-trainable params: 0\n",
      "_________________________________________________________________\n"
     ]
    }
   ],
   "source": [
    "# --- hiperparámetros ---\n",
    "F = 4   #-- cantidad de filtros o de mapas de características --\n",
    "K = 3   #-- tamaño del kernel o máscara ---\n",
    "S = 1   #-- stride ---\n",
    "P = 1   #-- padding ---   \n",
    "FUN = \"relu\"   #-- función de activación de la capa de convolucion --\n",
    "PS = 2  #-- tamaño para la ventana de pooling  --\n",
    "\n",
    "model = Sequential()\n",
    "model.add(Input(shape=(28, 28, 1)))\n",
    "model.add(Conv2D(F, kernel_size=K, strides=(S,S), activation=FUN))\n",
    "model.add(MaxPooling2D(pool_size=(PS,PS)))\n",
    "model.add(Flatten())\n",
    "model.add(Dense(10, activation='softmax'))\n",
    "model.summary()"
   ]
  },
  {
   "cell_type": "code",
   "execution_count": 4,
   "id": "98044039",
   "metadata": {},
   "outputs": [],
   "source": [
    "model.compile('SGD', loss = 'categorical_crossentropy', metrics = ['accuracy'])"
   ]
  },
  {
   "cell_type": "code",
   "execution_count": 5,
   "id": "1b6a312b",
   "metadata": {},
   "outputs": [
    {
     "name": "stdout",
     "output_type": "stream",
     "text": [
      "Epoch 1/4000\n",
      "469/469 [==============================] - 14s 28ms/step - loss: 0.7167 - accuracy: 0.7867 - val_loss: 0.3641 - val_accuracy: 0.8964\n",
      "Epoch 2/4000\n",
      "469/469 [==============================] - 12s 26ms/step - loss: 0.3526 - accuracy: 0.8977 - val_loss: 0.3128 - val_accuracy: 0.9124\n",
      "Epoch 3/4000\n",
      "469/469 [==============================] - 13s 27ms/step - loss: 0.3150 - accuracy: 0.9091 - val_loss: 0.2880 - val_accuracy: 0.9174\n",
      "Epoch 4/4000\n",
      "469/469 [==============================] - 11s 23ms/step - loss: 0.2917 - accuracy: 0.9167 - val_loss: 0.2694 - val_accuracy: 0.9222\n",
      "Epoch 5/4000\n",
      "469/469 [==============================] - 14s 30ms/step - loss: 0.2714 - accuracy: 0.9228 - val_loss: 0.2527 - val_accuracy: 0.9274\n",
      "Epoch 6/4000\n",
      "469/469 [==============================] - 12s 25ms/step - loss: 0.2541 - accuracy: 0.9274 - val_loss: 0.2372 - val_accuracy: 0.9336\n",
      "Epoch 7/4000\n",
      "469/469 [==============================] - 12s 25ms/step - loss: 0.2382 - accuracy: 0.9326 - val_loss: 0.2301 - val_accuracy: 0.9352\n",
      "Epoch 8/4000\n",
      "469/469 [==============================] - 11s 23ms/step - loss: 0.2241 - accuracy: 0.9369 - val_loss: 0.2145 - val_accuracy: 0.9388\n",
      "Epoch 9/4000\n",
      "469/469 [==============================] - 13s 28ms/step - loss: 0.2108 - accuracy: 0.9408 - val_loss: 0.2005 - val_accuracy: 0.9448\n",
      "Epoch 10/4000\n",
      "469/469 [==============================] - 11s 23ms/step - loss: 0.1996 - accuracy: 0.9439 - val_loss: 0.1891 - val_accuracy: 0.9481\n",
      "Epoch 11/4000\n",
      "469/469 [==============================] - 13s 28ms/step - loss: 0.1888 - accuracy: 0.9465 - val_loss: 0.1811 - val_accuracy: 0.9486\n",
      "Epoch 12/4000\n",
      "469/469 [==============================] - 13s 28ms/step - loss: 0.1796 - accuracy: 0.9497 - val_loss: 0.1761 - val_accuracy: 0.9517\n",
      "Epoch 13/4000\n",
      "469/469 [==============================] - 11s 22ms/step - loss: 0.1716 - accuracy: 0.9521 - val_loss: 0.1659 - val_accuracy: 0.9551\n",
      "Epoch 14/4000\n",
      "469/469 [==============================] - 12s 26ms/step - loss: 0.1641 - accuracy: 0.9540 - val_loss: 0.1607 - val_accuracy: 0.9557\n",
      "Epoch 15/4000\n",
      "469/469 [==============================] - 13s 28ms/step - loss: 0.1578 - accuracy: 0.9562 - val_loss: 0.1542 - val_accuracy: 0.9580\n",
      "Epoch 16/4000\n",
      "469/469 [==============================] - 12s 26ms/step - loss: 0.1517 - accuracy: 0.9577 - val_loss: 0.1492 - val_accuracy: 0.9589\n",
      "Epoch 17/4000\n",
      "469/469 [==============================] - 12s 26ms/step - loss: 0.1462 - accuracy: 0.9593 - val_loss: 0.1480 - val_accuracy: 0.9594\n",
      "Epoch 18/4000\n",
      "469/469 [==============================] - 14s 30ms/step - loss: 0.1415 - accuracy: 0.9605 - val_loss: 0.1403 - val_accuracy: 0.9607\n",
      "Epoch 19/4000\n",
      "469/469 [==============================] - 14s 30ms/step - loss: 0.1373 - accuracy: 0.9622 - val_loss: 0.1355 - val_accuracy: 0.9618\n",
      "Epoch 20/4000\n",
      "469/469 [==============================] - 14s 30ms/step - loss: 0.1331 - accuracy: 0.9626 - val_loss: 0.1346 - val_accuracy: 0.9622\n",
      "Epoch 21/4000\n",
      "469/469 [==============================] - 14s 29ms/step - loss: 0.1294 - accuracy: 0.9639 - val_loss: 0.1295 - val_accuracy: 0.9639\n",
      "Epoch 22/4000\n",
      "469/469 [==============================] - 14s 29ms/step - loss: 0.1258 - accuracy: 0.9652 - val_loss: 0.1286 - val_accuracy: 0.9646\n",
      "Epoch 23/4000\n",
      "469/469 [==============================] - 14s 29ms/step - loss: 0.1228 - accuracy: 0.9658 - val_loss: 0.1246 - val_accuracy: 0.9652\n",
      "Epoch 24/4000\n",
      "469/469 [==============================] - 14s 31ms/step - loss: 0.1199 - accuracy: 0.9667 - val_loss: 0.1224 - val_accuracy: 0.9645\n",
      "Epoch 25/4000\n",
      "469/469 [==============================] - 12s 26ms/step - loss: 0.1174 - accuracy: 0.9674 - val_loss: 0.1192 - val_accuracy: 0.9655\n",
      "Epoch 26/4000\n",
      "469/469 [==============================] - 12s 27ms/step - loss: 0.1146 - accuracy: 0.9682 - val_loss: 0.1162 - val_accuracy: 0.9673\n",
      "Epoch 27/4000\n",
      "469/469 [==============================] - 14s 30ms/step - loss: 0.1123 - accuracy: 0.9686 - val_loss: 0.1163 - val_accuracy: 0.9666\n",
      "Epoch 28/4000\n",
      "469/469 [==============================] - 11s 23ms/step - loss: 0.1100 - accuracy: 0.9695 - val_loss: 0.1132 - val_accuracy: 0.9667\n",
      "Epoch 29/4000\n",
      "469/469 [==============================] - 13s 27ms/step - loss: 0.1079 - accuracy: 0.9701 - val_loss: 0.1121 - val_accuracy: 0.9663\n",
      "Epocas = 28\n"
     ]
    }
   ],
   "source": [
    "LOTES = 128\n",
    "EPOCAS  = 4000\n",
    "\n",
    "# entrena el modelo y guarda la historia del progreso    \n",
    "es = EarlyStopping(monitor='val_accuracy', patience=3, min_delta=0.001)\n",
    "H = model.fit(x = X_train, y = Y_train, batch_size = LOTES, validation_data = (X_test, Y_test), epochs=EPOCAS, callbacks=[es])\n",
    "\n",
    "# H = model.fit(x = X_train, y = Y_train, batch_size = LOTES, epochs = EPOCAS, validation_data = (X_test, Y_test))\n",
    "\n",
    "print(\"Epocas = %d\" % es.stopped_epoch)\n"
   ]
  },
  {
   "cell_type": "code",
   "execution_count": 6,
   "id": "0b1ef05b",
   "metadata": {},
   "outputs": [
    {
     "data": {
      "text/plain": [
       "<matplotlib.legend.Legend at 0x246378a5688>"
      ]
     },
     "execution_count": 6,
     "metadata": {},
     "output_type": "execute_result"
    },
    {
     "data": {
      "image/png": "[encoded data removed]",
      "text/plain": [
       "<Figure size 640x480 with 1 Axes>"
      ]
     },
     "metadata": {},
     "output_type": "display_data"
    }
   ],
   "source": [
    "# dibuja accuracy del progreso del entrenamiento\n",
    "\n",
    "# N = np.arange(0, EPOCAS)\n",
    "accuracy = np.array(H.history[\"accuracy\"])\n",
    "val_accuracy = np.array(H.history[\"val_accuracy\"])\n",
    "\n",
    "N = np.arange(0, len(accuracy))\n",
    "plt.figure()\n",
    "#plt.plot(N, H.history[\"loss\"], label=\"train_loss\")\n",
    "#plt.plot(N, H.history[\"val_loss\"], label=\"val_loss\")\n",
    "plt.plot(N, 100*accuracy, label=\"train_acc\")\n",
    "plt.plot(N, 100*val_accuracy, label=\"val_acc\")\n",
    "plt.title(\"Efectividad de Entrenamiento\")\n",
    "plt.xlabel(\"Época #\")\n",
    "plt.ylabel(\"Efectividad\")\n",
    "plt.legend(loc=\"lower right\")"
   ]
  },
  {
   "cell_type": "code",
   "execution_count": 7,
   "id": "d7eb2d8e",
   "metadata": {},
   "outputs": [
    {
     "name": "stdout",
     "output_type": "stream",
     "text": [
      "79/79 [==============================] - 0s 3ms/step - loss: 0.1121 - accuracy: 0.9663\n",
      "\n",
      "Efectividad del modelo con datos de validación:  96.63%\n"
     ]
    }
   ],
   "source": [
    "# evalua el modelo con los datos de validacion\n",
    "pred = model.evaluate(X_test, Y_test, batch_size = LOTES)\n",
    "\n",
    "print(\"\\nEfectividad del modelo con datos de validación: %6.2f%%\" % (pred[1]*100))"
   ]
  },
  {
   "cell_type": "code",
   "execution_count": 13,
   "id": "4f2bcc9d",
   "metadata": {},
   "outputs": [
    {
     "name": "stdout",
     "output_type": "stream",
     "text": [
      "313/313 [==============================] - 0s 2ms/step\n",
      "Classification report - Training:\n",
      "              precision    recall  f1-score   support\n",
      "\n",
      "           0       0.97      0.99      0.98       980\n",
      "           1       0.99      0.99      0.99      1135\n",
      "           2       0.96      0.96      0.96      1032\n",
      "           3       0.96      0.97      0.97      1010\n",
      "           4       0.97      0.97      0.97       982\n",
      "           5       0.96      0.97      0.96       892\n",
      "           6       0.98      0.97      0.98       958\n",
      "           7       0.95      0.96      0.95      1028\n",
      "           8       0.96      0.95      0.95       974\n",
      "           9       0.97      0.93      0.95      1009\n",
      "\n",
      "    accuracy                           0.97     10000\n",
      "   macro avg       0.97      0.97      0.97     10000\n",
      "weighted avg       0.97      0.97      0.97     10000\n",
      "\n",
      "Confusion matrix:\n",
      "[[ 966    0    3    1    0    3    1    3    3    0]\n",
      " [   0 1124    1    3    0    0    3    1    2    1]\n",
      " [   5    5  988    5    6    0    2   10   11    0]\n",
      " [   0    1    7  981    0    7    0    6    5    3]\n",
      " [   2    0    2    0  951    0    5    6    2   14]\n",
      " [   6    0    1    8    0  865    4    1    6    1]\n",
      " [   7    2    1    1    4    6  932    0    5    0]\n",
      " [   0    3   12    9    2    2    0  987    3   10]\n",
      " [   7    1    8    5    4   11    1    7  926    4]\n",
      " [   8    5    1    5   14    7    0   22    4  943]]\n"
     ]
    }
   ],
   "source": [
    "Y_pred = model.predict(X_test)\n",
    "Y_pred_nro = np.argmax(Y_pred, axis=1)    # conversión a entero\n",
    "Y_true = np.argmax(Y_test, axis=1)\n",
    "\n",
    "report = metrics.classification_report(Y_true,Y_pred_nro)\n",
    "print(\"Classification report - Training:\\n%s\" % report) \n",
    "\n",
    "cm = metrics.confusion_matrix(Y_true, Y_pred_nro)\n",
    "print(\"Confusion matrix:\\n%s\" % cm) \n"
   ]
  },
  {
   "cell_type": "code",
   "execution_count": null,
   "id": "c19116c6",
   "metadata": {},
   "outputs": [],
   "source": []
  }
 ],
 "metadata": {
  "kernelspec": {
   "display_name": "Python 3 (ipykernel)",
   "language": "python",
   "name": "python3"
  },
  "language_info": {
   "codemirror_mode": {
    "name": "ipython",
    "version": 3
   },
   "file_extension": ".py",
   "mimetype": "text/x-python",
   "name": "python",
   "nbconvert_exporter": "python",
   "pygments_lexer": "ipython3",
   "version": "3.7.13"
  }
 },
 "nbformat": 4,
 "nbformat_minor": 5
}
