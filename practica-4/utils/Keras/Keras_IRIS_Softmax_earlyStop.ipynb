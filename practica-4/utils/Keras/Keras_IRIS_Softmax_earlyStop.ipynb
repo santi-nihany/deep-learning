{
 "cells": [
  {
   "cell_type": "code",
   "execution_count": 1,
   "id": "3896f775",
   "metadata": {},
   "outputs": [],
   "source": [
    "from tensorflow.keras.optimizers import SGD\n",
    "from tensorflow.keras.callbacks import EarlyStopping\n",
    "from tensorflow.keras.models import Sequential\n",
    "from tensorflow.keras.layers import Dense\n",
    "from tensorflow.keras.utils import to_categorical\n",
    "\n",
    "import matplotlib.pyplot as plt\n",
    "import numpy as np\n",
    "from sklearn import preprocessing, metrics, model_selection \n",
    "import pandas as pd"
   ]
  },
  {
   "cell_type": "code",
   "execution_count": 2,
   "id": "50f3a17a",
   "metadata": {},
   "outputs": [],
   "source": [
    "df = pd.read_csv('../Datos/Iris.csv')\n",
    "\n",
    "# Tomamos todas las columnas menos la última\n",
    "X = np.array(df.iloc[:, 0:-1])\n",
    "Y = np.array(df.iloc[:,-1])\n",
    "encoder = preprocessing.LabelEncoder()\n",
    "Y = encoder.fit_transform(Y)\n",
    "Y_bin= to_categorical(Y)"
   ]
  },
  {
   "cell_type": "code",
   "execution_count": 3,
   "id": "94fa46dc",
   "metadata": {},
   "outputs": [],
   "source": [
    "#--- CONJUNTOS DE ENTRENAMIENTO Y TESTEO ---\n",
    "X_train, X_test, Y_train, Y_test = model_selection.train_test_split( \\\n",
    "        X, Y_bin, test_size=0.20) #, random_state=42)\n"
   ]
  },
  {
   "cell_type": "code",
   "execution_count": 4,
   "id": "e9d2f87f",
   "metadata": {},
   "outputs": [],
   "source": [
    "normalizarEntrada = 1  # 1 si normaliza; 0 si no\n",
    "\n",
    "if normalizarEntrada:\n",
    "    # Escala los valores entre 0 y 1\n",
    "    min_max_scaler = preprocessing.MinMaxScaler()\n",
    "    X_train = min_max_scaler.fit_transform(X_train)\n",
    "    X_test = min_max_scaler.transform(X_test)"
   ]
  },
  {
   "cell_type": "markdown",
   "id": "272c54bd",
   "metadata": {},
   "source": [
    "### Definición del modelo"
   ]
  },
  {
   "cell_type": "code",
   "execution_count": 5,
   "id": "7acf287d",
   "metadata": {},
   "outputs": [
    {
     "name": "stdout",
     "output_type": "stream",
     "text": [
      "Model: \"sequential\"\n",
      "_________________________________________________________________\n",
      "Layer (type)                 Output Shape              Param #   \n",
      "=================================================================\n",
      "dense (Dense)                (None, 2)                 10        \n",
      "_________________________________________________________________\n",
      "dense_1 (Dense)              (None, 3)                 9         \n",
      "=================================================================\n",
      "Total params: 19\n",
      "Trainable params: 19\n",
      "Non-trainable params: 0\n",
      "_________________________________________________________________\n"
     ]
    }
   ],
   "source": [
    "# Crear un modelo de capas secuenciales\n",
    "model=Sequential()\n",
    "\n",
    "# Agregar las capas al modelo\n",
    "model.add(Dense(2, input_shape=[4], activation='tanh'))\n",
    "model.add(Dense(3, activation='softmax'))\n",
    "\n",
    "# Imprimir un resumen del modelo\n",
    "model.summary()"
   ]
  },
  {
   "cell_type": "code",
   "execution_count": 6,
   "id": "46844e29",
   "metadata": {},
   "outputs": [],
   "source": [
    "# Configuración para entrenamiento\n",
    "model.compile(optimizer=SGD(lr=0.1), loss='categorical_crossentropy', metrics='accuracy')"
   ]
  },
  {
   "cell_type": "code",
   "execution_count": 7,
   "id": "795c2f86",
   "metadata": {},
   "outputs": [
    {
     "name": "stdout",
     "output_type": "stream",
     "text": [
      "Epoch 1/4000\n",
      "6/6 [==============================] - 0s 55ms/step - loss: 1.2067 - accuracy: 0.3250 - val_loss: 1.1453 - val_accuracy: 0.3667\n",
      "Epoch 2/4000\n",
      "6/6 [==============================] - 0s 4ms/step - loss: 1.1344 - accuracy: 0.3000 - val_loss: 1.0991 - val_accuracy: 0.3667\n",
      "Epoch 3/4000\n",
      "6/6 [==============================] - 0s 3ms/step - loss: 1.0823 - accuracy: 0.4917 - val_loss: 1.0626 - val_accuracy: 0.6333\n",
      "Epoch 4/4000\n",
      "6/6 [==============================] - 0s 5ms/step - loss: 1.0424 - accuracy: 0.6250 - val_loss: 1.0292 - val_accuracy: 0.6667\n",
      "Epoch 5/4000\n",
      "6/6 [==============================] - 0s 4ms/step - loss: 1.0061 - accuracy: 0.6583 - val_loss: 0.9960 - val_accuracy: 0.6667\n",
      "Epoch 6/4000\n",
      "6/6 [==============================] - 0s 5ms/step - loss: 0.9711 - accuracy: 0.6583 - val_loss: 0.9623 - val_accuracy: 0.6667\n",
      "Epoch 7/4000\n",
      "6/6 [==============================] - 0s 6ms/step - loss: 0.9362 - accuracy: 0.6583 - val_loss: 0.9274 - val_accuracy: 0.6667\n",
      "Epoch 8/4000\n",
      "6/6 [==============================] - 0s 5ms/step - loss: 0.9013 - accuracy: 0.6583 - val_loss: 0.8916 - val_accuracy: 0.6667\n",
      "Epoch 9/4000\n",
      "6/6 [==============================] - 0s 5ms/step - loss: 0.8671 - accuracy: 0.6667 - val_loss: 0.8568 - val_accuracy: 0.6667\n",
      "Epoch 10/4000\n",
      "6/6 [==============================] - 0s 6ms/step - loss: 0.8340 - accuracy: 0.6667 - val_loss: 0.8224 - val_accuracy: 0.6667\n",
      "Epoch 11/4000\n",
      "6/6 [==============================] - 0s 5ms/step - loss: 0.8017 - accuracy: 0.6667 - val_loss: 0.7898 - val_accuracy: 0.6667\n",
      "Epoch 12/4000\n",
      "6/6 [==============================] - 0s 5ms/step - loss: 0.7710 - accuracy: 0.6750 - val_loss: 0.7594 - val_accuracy: 0.6667\n",
      "Epoch 13/4000\n",
      "6/6 [==============================] - 0s 4ms/step - loss: 0.7422 - accuracy: 0.6667 - val_loss: 0.7308 - val_accuracy: 0.7000\n",
      "Epoch 14/4000\n",
      "6/6 [==============================] - 0s 5ms/step - loss: 0.7157 - accuracy: 0.6833 - val_loss: 0.7044 - val_accuracy: 0.7000\n",
      "Epoch 15/4000\n",
      "6/6 [==============================] - 0s 5ms/step - loss: 0.6928 - accuracy: 0.6833 - val_loss: 0.6801 - val_accuracy: 0.7333\n",
      "Epoch 16/4000\n",
      "6/6 [==============================] - 0s 5ms/step - loss: 0.6708 - accuracy: 0.7000 - val_loss: 0.6583 - val_accuracy: 0.7333\n",
      "Epoch 17/4000\n",
      "6/6 [==============================] - 0s 5ms/step - loss: 0.6521 - accuracy: 0.7083 - val_loss: 0.6385 - val_accuracy: 0.7333\n",
      "Epoch 18/4000\n",
      "6/6 [==============================] - 0s 6ms/step - loss: 0.6346 - accuracy: 0.7167 - val_loss: 0.6206 - val_accuracy: 0.7333\n",
      "Epoch 19/4000\n",
      "6/6 [==============================] - 0s 5ms/step - loss: 0.6188 - accuracy: 0.7250 - val_loss: 0.6043 - val_accuracy: 0.7333\n",
      "Epoch 20/4000\n",
      "6/6 [==============================] - 0s 8ms/step - loss: 0.6041 - accuracy: 0.7250 - val_loss: 0.5894 - val_accuracy: 0.7667\n",
      "Epoch 21/4000\n",
      "6/6 [==============================] - 0s 4ms/step - loss: 0.5923 - accuracy: 0.7417 - val_loss: 0.5760 - val_accuracy: 0.7667\n",
      "Epoch 22/4000\n",
      "6/6 [==============================] - 0s 5ms/step - loss: 0.5802 - accuracy: 0.7667 - val_loss: 0.5638 - val_accuracy: 0.8333\n",
      "Epoch 23/4000\n",
      "6/6 [==============================] - 0s 5ms/step - loss: 0.5697 - accuracy: 0.7583 - val_loss: 0.5525 - val_accuracy: 0.8333\n",
      "Epoch 24/4000\n",
      "6/6 [==============================] - 0s 6ms/step - loss: 0.5599 - accuracy: 0.8000 - val_loss: 0.5423 - val_accuracy: 0.8333\n",
      "Epoch 25/4000\n",
      "6/6 [==============================] - 0s 5ms/step - loss: 0.5507 - accuracy: 0.7750 - val_loss: 0.5327 - val_accuracy: 0.8667\n",
      "Epoch 26/4000\n",
      "6/6 [==============================] - 0s 5ms/step - loss: 0.5436 - accuracy: 0.8083 - val_loss: 0.5241 - val_accuracy: 0.8333\n",
      "Epoch 27/4000\n",
      "6/6 [==============================] - 0s 6ms/step - loss: 0.5346 - accuracy: 0.7917 - val_loss: 0.5159 - val_accuracy: 0.9000\n",
      "Epoch 28/4000\n",
      "6/6 [==============================] - 0s 5ms/step - loss: 0.5274 - accuracy: 0.7917 - val_loss: 0.5083 - val_accuracy: 0.9000\n",
      "Epoch 29/4000\n",
      "6/6 [==============================] - ETA: 0s - loss: 0.5997 - accuracy: 0.65 - 0s 3ms/step - loss: 0.5212 - accuracy: 0.8333 - val_loss: 0.5012 - val_accuracy: 0.9000\n",
      "Epoch 30/4000\n",
      "6/6 [==============================] - 0s 4ms/step - loss: 0.5153 - accuracy: 0.7917 - val_loss: 0.4945 - val_accuracy: 0.9000\n",
      "Epoch 31/4000\n",
      "6/6 [==============================] - 0s 5ms/step - loss: 0.5117 - accuracy: 0.8417 - val_loss: 0.4882 - val_accuracy: 0.9333\n",
      "Epoch 32/4000\n",
      "6/6 [==============================] - 0s 6ms/step - loss: 0.5047 - accuracy: 0.8167 - val_loss: 0.4823 - val_accuracy: 0.9333\n",
      "Epoch 33/4000\n",
      "6/6 [==============================] - 0s 5ms/step - loss: 0.4987 - accuracy: 0.8500 - val_loss: 0.4765 - val_accuracy: 0.9333\n",
      "Epoch 34/4000\n",
      "6/6 [==============================] - 0s 8ms/step - loss: 0.4939 - accuracy: 0.8417 - val_loss: 0.4709 - val_accuracy: 0.9333\n",
      "Epoch 35/4000\n",
      "6/6 [==============================] - 0s 6ms/step - loss: 0.4915 - accuracy: 0.8417 - val_loss: 0.4657 - val_accuracy: 0.9333\n",
      "Epoch 36/4000\n",
      "6/6 [==============================] - 0s 5ms/step - loss: 0.4861 - accuracy: 0.8583 - val_loss: 0.4607 - val_accuracy: 0.9667\n",
      "Epoch 37/4000\n",
      "6/6 [==============================] - 0s 5ms/step - loss: 0.4816 - accuracy: 0.8167 - val_loss: 0.4557 - val_accuracy: 0.9667\n",
      "Epoch 38/4000\n",
      "6/6 [==============================] - 0s 5ms/step - loss: 0.4768 - accuracy: 0.8583 - val_loss: 0.4510 - val_accuracy: 0.9667\n",
      "Epoch 39/4000\n",
      "6/6 [==============================] - 0s 5ms/step - loss: 0.4733 - accuracy: 0.8667 - val_loss: 0.4464 - val_accuracy: 0.9667\n",
      "Epoch 40/4000\n",
      "6/6 [==============================] - 0s 5ms/step - loss: 0.4682 - accuracy: 0.8667 - val_loss: 0.4420 - val_accuracy: 0.9667\n",
      "Epoch 41/4000\n",
      "6/6 [==============================] - 0s 3ms/step - loss: 0.4645 - accuracy: 0.8833 - val_loss: 0.4377 - val_accuracy: 0.9667\n",
      "Epoch 42/4000\n",
      "6/6 [==============================] - 0s 5ms/step - loss: 0.4608 - accuracy: 0.8667 - val_loss: 0.4335 - val_accuracy: 0.9667\n",
      "Epoch 43/4000\n",
      "6/6 [==============================] - 0s 5ms/step - loss: 0.4571 - accuracy: 0.8750 - val_loss: 0.4294 - val_accuracy: 1.0000\n",
      "Epoch 44/4000\n",
      "6/6 [==============================] - 0s 3ms/step - loss: 0.4535 - accuracy: 0.8917 - val_loss: 0.4253 - val_accuracy: 1.0000\n",
      "Epoch 45/4000\n",
      "6/6 [==============================] - 0s 3ms/step - loss: 0.4500 - accuracy: 0.8667 - val_loss: 0.4214 - val_accuracy: 1.0000\n",
      "Epoch 46/4000\n",
      "6/6 [==============================] - 0s 3ms/step - loss: 0.4483 - accuracy: 0.9083 - val_loss: 0.4174 - val_accuracy: 1.0000\n",
      "Epoch 47/4000\n",
      "6/6 [==============================] - 0s 4ms/step - loss: 0.4439 - accuracy: 0.9083 - val_loss: 0.4135 - val_accuracy: 1.0000\n",
      "Epoch 48/4000\n",
      "6/6 [==============================] - 0s 5ms/step - loss: 0.4403 - accuracy: 0.9000 - val_loss: 0.4097 - val_accuracy: 1.0000\n",
      "Epoch 49/4000\n",
      "6/6 [==============================] - 0s 5ms/step - loss: 0.4371 - accuracy: 0.9250 - val_loss: 0.4060 - val_accuracy: 1.0000\n",
      "Epoch 50/4000\n",
      "6/6 [==============================] - 0s 5ms/step - loss: 0.4343 - accuracy: 0.8917 - val_loss: 0.4026 - val_accuracy: 1.0000\n",
      "Epoch 51/4000\n",
      "6/6 [==============================] - 0s 5ms/step - loss: 0.4301 - accuracy: 0.9167 - val_loss: 0.3988 - val_accuracy: 1.0000\n",
      "Epoch 52/4000\n",
      "6/6 [==============================] - 0s 6ms/step - loss: 0.4277 - accuracy: 0.9167 - val_loss: 0.3951 - val_accuracy: 1.0000\n",
      "Epoch 53/4000\n",
      "6/6 [==============================] - 0s 5ms/step - loss: 0.4244 - accuracy: 0.9167 - val_loss: 0.3917 - val_accuracy: 1.0000\n",
      "Epoch 54/4000\n",
      "6/6 [==============================] - 0s 5ms/step - loss: 0.4215 - accuracy: 0.9167 - val_loss: 0.3882 - val_accuracy: 1.0000\n",
      "Epoch 55/4000\n",
      "6/6 [==============================] - 0s 6ms/step - loss: 0.4180 - accuracy: 0.9167 - val_loss: 0.3844 - val_accuracy: 1.0000\n",
      "Epoch 56/4000\n",
      "6/6 [==============================] - 0s 5ms/step - loss: 0.4156 - accuracy: 0.9250 - val_loss: 0.3809 - val_accuracy: 1.0000\n",
      "Epoch 57/4000\n",
      "6/6 [==============================] - 0s 5ms/step - loss: 0.4114 - accuracy: 0.9167 - val_loss: 0.3773 - val_accuracy: 1.0000\n",
      "Epoch 58/4000\n",
      "6/6 [==============================] - 0s 4ms/step - loss: 0.4095 - accuracy: 0.9167 - val_loss: 0.3741 - val_accuracy: 1.0000\n"
     ]
    },
    {
     "name": "stdout",
     "output_type": "stream",
     "text": [
      "Epoch 59/4000\n",
      "6/6 [==============================] - 0s 5ms/step - loss: 0.4061 - accuracy: 0.9167 - val_loss: 0.3707 - val_accuracy: 1.0000\n",
      "Epoch 60/4000\n",
      "6/6 [==============================] - 0s 5ms/step - loss: 0.4018 - accuracy: 0.9250 - val_loss: 0.3674 - val_accuracy: 1.0000\n",
      "Epoch 61/4000\n",
      "6/6 [==============================] - 0s 4ms/step - loss: 0.3991 - accuracy: 0.9250 - val_loss: 0.3638 - val_accuracy: 1.0000\n",
      "Epoch 62/4000\n",
      "6/6 [==============================] - 0s 5ms/step - loss: 0.3971 - accuracy: 0.9500 - val_loss: 0.3602 - val_accuracy: 1.0000\n",
      "Epoch 63/4000\n",
      "6/6 [==============================] - 0s 5ms/step - loss: 0.3934 - accuracy: 0.9250 - val_loss: 0.3569 - val_accuracy: 1.0000\n",
      "Epoch 64/4000\n",
      "6/6 [==============================] - 0s 6ms/step - loss: 0.3906 - accuracy: 0.9167 - val_loss: 0.3537 - val_accuracy: 1.0000\n",
      "Epoch 65/4000\n",
      "6/6 [==============================] - 0s 5ms/step - loss: 0.3883 - accuracy: 0.9250 - val_loss: 0.3508 - val_accuracy: 1.0000\n",
      "Epoch 66/4000\n",
      "6/6 [==============================] - 0s 3ms/step - loss: 0.3848 - accuracy: 0.9167 - val_loss: 0.3487 - val_accuracy: 1.0000\n",
      "Epoch 67/4000\n",
      "6/6 [==============================] - 0s 4ms/step - loss: 0.3815 - accuracy: 0.9417 - val_loss: 0.3445 - val_accuracy: 1.0000\n",
      "Epoch 68/4000\n",
      "6/6 [==============================] - ETA: 0s - loss: 0.2819 - accuracy: 1.00 - 0s 3ms/step - loss: 0.3783 - accuracy: 0.9333 - val_loss: 0.3411 - val_accuracy: 1.0000\n",
      "Epoch 69/4000\n",
      "6/6 [==============================] - 0s 5ms/step - loss: 0.3764 - accuracy: 0.9250 - val_loss: 0.3388 - val_accuracy: 1.0000\n",
      "Epoch 70/4000\n",
      "6/6 [==============================] - 0s 4ms/step - loss: 0.3736 - accuracy: 0.9250 - val_loss: 0.3364 - val_accuracy: 1.0000\n",
      "Epoch 71/4000\n",
      "6/6 [==============================] - 0s 5ms/step - loss: 0.3703 - accuracy: 0.9333 - val_loss: 0.3333 - val_accuracy: 1.0000\n",
      "Epoch 72/4000\n",
      "6/6 [==============================] - 0s 5ms/step - loss: 0.3684 - accuracy: 0.9333 - val_loss: 0.3292 - val_accuracy: 1.0000\n",
      "Epoch 73/4000\n",
      "6/6 [==============================] - 0s 4ms/step - loss: 0.3646 - accuracy: 0.9250 - val_loss: 0.3267 - val_accuracy: 1.0000\n"
     ]
    }
   ],
   "source": [
    "es = EarlyStopping(monitor='val_accuracy', patience=30, min_delta=0.0001)\n",
    "\n",
    "H = model.fit(x = X_train, y = Y_train, epochs=4000, batch_size = 20, \n",
    "              validation_data = (X_test, Y_test),  callbacks=[es])"
   ]
  },
  {
   "cell_type": "code",
   "execution_count": 8,
   "id": "6864106a",
   "metadata": {},
   "outputs": [
    {
     "name": "stdout",
     "output_type": "stream",
     "text": [
      "épocas = 73\n",
      "Epocas = 72\n"
     ]
    }
   ],
   "source": [
    "print(\"épocas = %d\" % len(H.history[\"val_accuracy\"]))   \n",
    "print(\"Epocas = %d\" % es.stopped_epoch)"
   ]
  },
  {
   "cell_type": "code",
   "execution_count": 9,
   "id": "e56f2f4a",
   "metadata": {},
   "outputs": [
    {
     "name": "stdout",
     "output_type": "stream",
     "text": [
      "% aciertos X_train : 0.950\n"
     ]
    }
   ],
   "source": [
    "# predecir la salida del modelo\n",
    "Y_pred = model.predict(X_train)\n",
    "Y_pred2 = np.argmax(Y_pred,axis=1)\n",
    "\n",
    "Y_true =  np.argmax(Y_train,axis=1)\n",
    "\n",
    "print(\"%% aciertos X_train : %.3f\" % metrics.accuracy_score(Y_true, Y_pred2))"
   ]
  },
  {
   "cell_type": "code",
   "execution_count": 10,
   "id": "a2d2c239",
   "metadata": {},
   "outputs": [
    {
     "name": "stdout",
     "output_type": "stream",
     "text": [
      "Confusion matrix Training:\n",
      "              precision    recall  f1-score   support\n",
      "\n",
      "           0       1.00      1.00      1.00        39\n",
      "           1       1.00      0.85      0.92        40\n",
      "           2       0.87      1.00      0.93        41\n",
      "\n",
      "    accuracy                           0.95       120\n",
      "   macro avg       0.96      0.95      0.95       120\n",
      "weighted avg       0.96      0.95      0.95       120\n",
      "\n",
      "Confusion matrix:\n",
      "[[39  0  0]\n",
      " [ 0 34  6]\n",
      " [ 0  0 41]]\n"
     ]
    }
   ],
   "source": [
    "report = metrics.classification_report(Y_true, Y_pred2)\n",
    "print(\"Confusion matrix Training:\\n%s\" % report) \n",
    "\n",
    "MM = metrics.confusion_matrix(Y_true, Y_pred2)\n",
    "print(\"Confusion matrix:\\n%s\" % MM)"
   ]
  },
  {
   "cell_type": "code",
   "execution_count": 11,
   "id": "a323f3b3",
   "metadata": {},
   "outputs": [
    {
     "data": {
      "text/plain": [
       "<matplotlib.legend.Legend at 0x2249339fa88>"
      ]
     },
     "execution_count": 11,
     "metadata": {},
     "output_type": "execute_result"
    },
    {
     "data": {
      "image/png": "[encoded data removed]",
      "text/plain": [
       "<Figure size 432x288 with 1 Axes>"
      ]
     },
     "metadata": {
      "needs_background": "light"
     },
     "output_type": "display_data"
    }
   ],
   "source": [
    "# dibuja accuracy del progreso del entrenamiento\n",
    "accuracy = np.array(H.history[\"accuracy\"])\n",
    "val_accuracy = np.array(H.history[\"val_accuracy\"])\n",
    "\n",
    "N = np.arange(0, len(accuracy))\n",
    "plt.figure()\n",
    "#plt.plot(N, H.history[\"loss\"], label=\"train_loss\")\n",
    "#plt.plot(N, H.history[\"val_loss\"], label=\"val_loss\")\n",
    "plt.plot(N, 100*accuracy, label=\"train_acc\")\n",
    "plt.plot(N, 100*val_accuracy, label=\"val_acc\")\n",
    "plt.title(\"Efectividad de Entrenamiento\")\n",
    "plt.xlabel(\"Época #\")\n",
    "plt.ylabel(\"Efectividad\")\n",
    "plt.legend(loc=\"lower right\")"
   ]
  },
  {
   "cell_type": "code",
   "execution_count": null,
   "id": "8d8b19b8",
   "metadata": {},
   "outputs": [],
   "source": []
  }
 ],
 "metadata": {
  "kernelspec": {
   "display_name": "Python 3 (ipykernel)",
   "language": "python",
   "name": "python3"
  },
  "language_info": {
   "codemirror_mode": {
    "name": "ipython",
    "version": 3
   },
   "file_extension": ".py",
   "mimetype": "text/x-python",
   "name": "python",
   "nbconvert_exporter": "python",
   "pygments_lexer": "ipython3",
   "version": "3.7.11"
  }
 },
 "nbformat": 4,
 "nbformat_minor": 5
}
