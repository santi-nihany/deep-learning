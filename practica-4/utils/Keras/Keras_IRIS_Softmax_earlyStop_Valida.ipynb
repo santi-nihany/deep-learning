{
 "cells": [
  {
   "cell_type": "code",
   "execution_count": 1,
   "id": "3896f775",
   "metadata": {},
   "outputs": [],
   "source": [
    "from tensorflow.keras.callbacks import EarlyStopping\n",
    "from tensorflow.keras.models import Sequential\n",
    "from tensorflow.keras.layers import Dense\n",
    "from tensorflow.keras.utils import to_categorical\n",
    "\n",
    "import numpy as np\n",
    "from sklearn import preprocessing, metrics, model_selection \n",
    "import pandas as pd"
   ]
  },
  {
   "cell_type": "code",
   "execution_count": 2,
   "id": "50f3a17a",
   "metadata": {},
   "outputs": [],
   "source": [
    "df = pd.read_csv('../Datos/Iris.csv')\n",
    "\n",
    "# Tomamos todas las columnas menos la última\n",
    "X = np.array(df.iloc[:, 0:-1])\n",
    "Y = np.array(df.iloc[:,-1])\n",
    "encoder = preprocessing.LabelEncoder()\n",
    "Y = encoder.fit_transform(Y)"
   ]
  },
  {
   "cell_type": "code",
   "execution_count": 3,
   "id": "94fa46dc",
   "metadata": {},
   "outputs": [],
   "source": [
    "#--- CONJUNTOS DE ENTRENAMIENTO Y TESTEO ---\n",
    "X_train, X_test, Y_train, Y_test = model_selection.train_test_split( \\\n",
    "        X, Y, test_size=0.20) #, random_state=42)\n",
    "\n",
    "Y_trainB = to_categorical(Y_train)"
   ]
  },
  {
   "cell_type": "code",
   "execution_count": 4,
   "id": "e9d2f87f",
   "metadata": {},
   "outputs": [],
   "source": [
    "normalizarEntrada = 1  # 1 si normaliza; 0 si no\n",
    "\n",
    "if normalizarEntrada:\n",
    "    # Escala los valores entre 0 y 1\n",
    "    min_max_scaler = preprocessing.MinMaxScaler()\n",
    "    X_train = min_max_scaler.fit_transform(X_train)\n",
    "    X_test = min_max_scaler.transform(X_test)"
   ]
  },
  {
   "cell_type": "markdown",
   "id": "272c54bd",
   "metadata": {},
   "source": [
    "### Definición del modelo"
   ]
  },
  {
   "cell_type": "code",
   "execution_count": 5,
   "id": "7acf287d",
   "metadata": {},
   "outputs": [
    {
     "name": "stdout",
     "output_type": "stream",
     "text": [
      "Model: \"sequential\"\n",
      "_________________________________________________________________\n",
      "Layer (type)                 Output Shape              Param #   \n",
      "=================================================================\n",
      "dense (Dense)                (None, 2)                 10        \n",
      "_________________________________________________________________\n",
      "dense_1 (Dense)              (None, 3)                 9         \n",
      "=================================================================\n",
      "Total params: 19\n",
      "Trainable params: 19\n",
      "Non-trainable params: 0\n",
      "_________________________________________________________________\n"
     ]
    }
   ],
   "source": [
    "# Crear un modelo de capas secuenciales\n",
    "model=Sequential()\n",
    "\n",
    "# Agregar las capas al modelo\n",
    "model.add(Dense(2, input_shape=[4], activation='tanh'))\n",
    "model.add(Dense(3, activation='softmax'))\n",
    "\n",
    "# Imprimir un resumen del modelo\n",
    "model.summary()"
   ]
  },
  {
   "cell_type": "code",
   "execution_count": 6,
   "id": "46844e29",
   "metadata": {},
   "outputs": [],
   "source": [
    "# Configuración para entrenamiento\n",
    "#model.compile(optimizer='sgd', loss='mse', metrics='accuracy')\n",
    "model.compile(optimizer='sgd', loss='categorical_crossentropy', metrics='accuracy')\n"
   ]
  },
  {
   "cell_type": "code",
   "execution_count": 7,
   "id": "e4a6db43",
   "metadata": {},
   "outputs": [],
   "source": [
    "# Reservamos 30 muestras para validacion --\n",
    "X_val = X_train[-30:]   # últimas 30 filas de X_train\n",
    "Y_valB = Y_trainB[-30:]\n",
    "\n",
    "X_train = X_train[:-30]  # todas las filas menos las últimas 30\n",
    "Y_trainB = Y_trainB[:-30]"
   ]
  },
  {
   "cell_type": "code",
   "execution_count": 8,
   "id": "795c2f86",
   "metadata": {},
   "outputs": [
    {
     "name": "stdout",
     "output_type": "stream",
     "text": [
      "Epoch 1/4000\n",
      "5/5 [==============================] - 0s 51ms/step - loss: 1.0149 - accuracy: 0.4000 - val_loss: 1.0421 - val_accuracy: 0.3333\n",
      "Epoch 2/4000\n",
      "5/5 [==============================] - 0s 9ms/step - loss: 1.0133 - accuracy: 0.4111 - val_loss: 1.0401 - val_accuracy: 0.3333\n",
      "Epoch 3/4000\n",
      "5/5 [==============================] - 0s 8ms/step - loss: 1.0115 - accuracy: 0.4444 - val_loss: 1.0381 - val_accuracy: 0.3333\n",
      "Epoch 4/4000\n",
      "5/5 [==============================] - 0s 9ms/step - loss: 1.0099 - accuracy: 0.4444 - val_loss: 1.0365 - val_accuracy: 0.3667\n",
      "Epoch 5/4000\n",
      "5/5 [==============================] - 0s 8ms/step - loss: 1.0084 - accuracy: 0.4667 - val_loss: 1.0345 - val_accuracy: 0.4000\n",
      "Epoch 6/4000\n",
      "5/5 [==============================] - 0s 9ms/step - loss: 1.0069 - accuracy: 0.5000 - val_loss: 1.0328 - val_accuracy: 0.4333\n",
      "Epoch 7/4000\n",
      "5/5 [==============================] - 0s 8ms/step - loss: 1.0053 - accuracy: 0.5000 - val_loss: 1.0308 - val_accuracy: 0.4667\n",
      "Epoch 8/4000\n",
      "5/5 [==============================] - 0s 6ms/step - loss: 1.0037 - accuracy: 0.5444 - val_loss: 1.0292 - val_accuracy: 0.5000\n",
      "Epoch 9/4000\n",
      "5/5 [==============================] - 0s 6ms/step - loss: 1.0020 - accuracy: 0.5444 - val_loss: 1.0273 - val_accuracy: 0.5333\n",
      "Epoch 10/4000\n",
      "5/5 [==============================] - 0s 4ms/step - loss: 1.0003 - accuracy: 0.5556 - val_loss: 1.0252 - val_accuracy: 0.5333\n",
      "Epoch 11/4000\n",
      "5/5 [==============================] - 0s 6ms/step - loss: 0.9987 - accuracy: 0.5889 - val_loss: 1.0233 - val_accuracy: 0.6000\n",
      "Epoch 12/4000\n",
      "5/5 [==============================] - 0s 6ms/step - loss: 0.9969 - accuracy: 0.6222 - val_loss: 1.0212 - val_accuracy: 0.6000\n",
      "Epoch 13/4000\n",
      "5/5 [==============================] - 0s 4ms/step - loss: 0.9953 - accuracy: 0.6333 - val_loss: 1.0194 - val_accuracy: 0.6000\n",
      "Epoch 14/4000\n",
      "5/5 [==============================] - 0s 3ms/step - loss: 0.9934 - accuracy: 0.6333 - val_loss: 1.0174 - val_accuracy: 0.6000\n",
      "Epoch 15/4000\n",
      "5/5 [==============================] - 0s 6ms/step - loss: 0.9918 - accuracy: 0.6333 - val_loss: 1.0157 - val_accuracy: 0.6000\n",
      "Epoch 16/4000\n",
      "5/5 [==============================] - 0s 6ms/step - loss: 0.9901 - accuracy: 0.6333 - val_loss: 1.0137 - val_accuracy: 0.6667\n",
      "Epoch 17/4000\n",
      "5/5 [==============================] - 0s 9ms/step - loss: 0.9884 - accuracy: 0.6333 - val_loss: 1.0116 - val_accuracy: 0.6667\n",
      "Epoch 18/4000\n",
      "5/5 [==============================] - 0s 8ms/step - loss: 0.9865 - accuracy: 0.6556 - val_loss: 1.0097 - val_accuracy: 0.6667\n",
      "Epoch 19/4000\n",
      "5/5 [==============================] - 0s 6ms/step - loss: 0.9849 - accuracy: 0.6556 - val_loss: 1.0079 - val_accuracy: 0.6667\n",
      "Epoch 20/4000\n",
      "5/5 [==============================] - 0s 9ms/step - loss: 0.9830 - accuracy: 0.6556 - val_loss: 1.0056 - val_accuracy: 0.6667\n",
      "Epoch 21/4000\n",
      "5/5 [==============================] - 0s 4ms/step - loss: 0.9811 - accuracy: 0.6556 - val_loss: 1.0035 - val_accuracy: 0.6667\n",
      "Epoch 22/4000\n",
      "5/5 [==============================] - 0s 6ms/step - loss: 0.9791 - accuracy: 0.6556 - val_loss: 1.0015 - val_accuracy: 0.6667\n",
      "Epoch 23/4000\n",
      "5/5 [==============================] - 0s 8ms/step - loss: 0.9774 - accuracy: 0.6556 - val_loss: 0.9994 - val_accuracy: 0.6667\n",
      "Epoch 24/4000\n",
      "5/5 [==============================] - 0s 6ms/step - loss: 0.9754 - accuracy: 0.6667 - val_loss: 0.9972 - val_accuracy: 0.6667\n",
      "Epoch 25/4000\n",
      "5/5 [==============================] - 0s 6ms/step - loss: 0.9735 - accuracy: 0.6667 - val_loss: 0.9949 - val_accuracy: 0.6667\n",
      "Epoch 26/4000\n",
      "5/5 [==============================] - 0s 4ms/step - loss: 0.9714 - accuracy: 0.6667 - val_loss: 0.9927 - val_accuracy: 0.6667\n",
      "Epoch 27/4000\n",
      "5/5 [==============================] - 0s 9ms/step - loss: 0.9695 - accuracy: 0.6667 - val_loss: 0.9904 - val_accuracy: 0.6667\n",
      "Epoch 28/4000\n",
      "5/5 [==============================] - 0s 6ms/step - loss: 0.9674 - accuracy: 0.6667 - val_loss: 0.9883 - val_accuracy: 0.6667\n",
      "Epoch 29/4000\n",
      "5/5 [==============================] - 0s 8ms/step - loss: 0.9654 - accuracy: 0.6667 - val_loss: 0.9859 - val_accuracy: 0.6667\n",
      "Epoch 30/4000\n",
      "5/5 [==============================] - 0s 6ms/step - loss: 0.9635 - accuracy: 0.6667 - val_loss: 0.9838 - val_accuracy: 0.6667\n",
      "Epoch 31/4000\n",
      "5/5 [==============================] - 0s 8ms/step - loss: 0.9615 - accuracy: 0.6667 - val_loss: 0.9817 - val_accuracy: 0.6667\n",
      "Epoch 32/4000\n",
      "5/5 [==============================] - 0s 6ms/step - loss: 0.9595 - accuracy: 0.6667 - val_loss: 0.9795 - val_accuracy: 0.6667\n",
      "Epoch 33/4000\n",
      "5/5 [==============================] - 0s 6ms/step - loss: 0.9577 - accuracy: 0.6667 - val_loss: 0.9774 - val_accuracy: 0.6667\n",
      "Epoch 34/4000\n",
      "5/5 [==============================] - 0s 6ms/step - loss: 0.9554 - accuracy: 0.6667 - val_loss: 0.9752 - val_accuracy: 0.6667\n",
      "Epoch 35/4000\n",
      "5/5 [==============================] - 0s 6ms/step - loss: 0.9534 - accuracy: 0.6667 - val_loss: 0.9730 - val_accuracy: 0.6667\n",
      "Epoch 36/4000\n",
      "5/5 [==============================] - 0s 8ms/step - loss: 0.9513 - accuracy: 0.6667 - val_loss: 0.9706 - val_accuracy: 0.6667\n",
      "Epoch 37/4000\n",
      "5/5 [==============================] - 0s 6ms/step - loss: 0.9491 - accuracy: 0.6667 - val_loss: 0.9682 - val_accuracy: 0.6667\n",
      "Epoch 38/4000\n",
      "5/5 [==============================] - 0s 6ms/step - loss: 0.9470 - accuracy: 0.6667 - val_loss: 0.9658 - val_accuracy: 0.6667\n",
      "Epoch 39/4000\n",
      "5/5 [==============================] - 0s 8ms/step - loss: 0.9448 - accuracy: 0.6667 - val_loss: 0.9634 - val_accuracy: 0.6667\n",
      "Epoch 40/4000\n",
      "5/5 [==============================] - 0s 6ms/step - loss: 0.9426 - accuracy: 0.6667 - val_loss: 0.9610 - val_accuracy: 0.6667\n",
      "Epoch 41/4000\n",
      "5/5 [==============================] - 0s 6ms/step - loss: 0.9405 - accuracy: 0.6667 - val_loss: 0.9585 - val_accuracy: 0.6667\n",
      "Epoch 42/4000\n",
      "5/5 [==============================] - 0s 4ms/step - loss: 0.9382 - accuracy: 0.6667 - val_loss: 0.9560 - val_accuracy: 0.6667\n",
      "Epoch 43/4000\n",
      "5/5 [==============================] - 0s 6ms/step - loss: 0.9361 - accuracy: 0.6667 - val_loss: 0.9536 - val_accuracy: 0.7000\n",
      "Epoch 44/4000\n",
      "5/5 [==============================] - 0s 6ms/step - loss: 0.9339 - accuracy: 0.6667 - val_loss: 0.9513 - val_accuracy: 0.7000\n",
      "Epoch 45/4000\n",
      "5/5 [==============================] - 0s 4ms/step - loss: 0.9316 - accuracy: 0.6667 - val_loss: 0.9487 - val_accuracy: 0.7000\n",
      "Epoch 46/4000\n",
      "5/5 [==============================] - 0s 6ms/step - loss: 0.9292 - accuracy: 0.6667 - val_loss: 0.9463 - val_accuracy: 0.7000\n",
      "Epoch 47/4000\n",
      "5/5 [==============================] - 0s 6ms/step - loss: 0.9269 - accuracy: 0.6667 - val_loss: 0.9441 - val_accuracy: 0.7000\n",
      "Epoch 48/4000\n",
      "5/5 [==============================] - 0s 7ms/step - loss: 0.9247 - accuracy: 0.6667 - val_loss: 0.9417 - val_accuracy: 0.7000\n",
      "Epoch 49/4000\n",
      "5/5 [==============================] - 0s 3ms/step - loss: 0.9228 - accuracy: 0.6778 - val_loss: 0.9394 - val_accuracy: 0.7000\n",
      "Epoch 50/4000\n",
      "5/5 [==============================] - 0s 7ms/step - loss: 0.9205 - accuracy: 0.6667 - val_loss: 0.9366 - val_accuracy: 0.7000\n",
      "Epoch 51/4000\n",
      "5/5 [==============================] - 0s 6ms/step - loss: 0.9178 - accuracy: 0.6778 - val_loss: 0.9340 - val_accuracy: 0.7000\n",
      "Epoch 52/4000\n",
      "5/5 [==============================] - 0s 6ms/step - loss: 0.9154 - accuracy: 0.6778 - val_loss: 0.9315 - val_accuracy: 0.7000\n",
      "Epoch 53/4000\n",
      "5/5 [==============================] - 0s 8ms/step - loss: 0.9131 - accuracy: 0.6778 - val_loss: 0.9290 - val_accuracy: 0.7000\n",
      "Epoch 54/4000\n",
      "5/5 [==============================] - 0s 6ms/step - loss: 0.9109 - accuracy: 0.6778 - val_loss: 0.9263 - val_accuracy: 0.7000\n",
      "Epoch 55/4000\n",
      "5/5 [==============================] - 0s 3ms/step - loss: 0.9083 - accuracy: 0.6778 - val_loss: 0.9237 - val_accuracy: 0.7000\n",
      "Epoch 56/4000\n",
      "5/5 [==============================] - 0s 6ms/step - loss: 0.9060 - accuracy: 0.6778 - val_loss: 0.9211 - val_accuracy: 0.7000\n",
      "Epoch 57/4000\n",
      "5/5 [==============================] - 0s 3ms/step - loss: 0.9036 - accuracy: 0.6778 - val_loss: 0.9185 - val_accuracy: 0.7000\n",
      "Epoch 58/4000\n",
      "5/5 [==============================] - 0s 6ms/step - loss: 0.9013 - accuracy: 0.6778 - val_loss: 0.9161 - val_accuracy: 0.7000\n",
      "Epoch 59/4000\n"
     ]
    },
    {
     "name": "stdout",
     "output_type": "stream",
     "text": [
      "5/5 [==============================] - 0s 6ms/step - loss: 0.8991 - accuracy: 0.6778 - val_loss: 0.9135 - val_accuracy: 0.7000\n",
      "Epoch 60/4000\n",
      "5/5 [==============================] - 0s 3ms/step - loss: 0.8965 - accuracy: 0.6778 - val_loss: 0.9108 - val_accuracy: 0.7000\n",
      "Epoch 61/4000\n",
      "5/5 [==============================] - 0s 3ms/step - loss: 0.8940 - accuracy: 0.6778 - val_loss: 0.9082 - val_accuracy: 0.7000\n",
      "Epoch 62/4000\n",
      "5/5 [==============================] - 0s 3ms/step - loss: 0.8917 - accuracy: 0.6778 - val_loss: 0.9055 - val_accuracy: 0.7000\n",
      "Epoch 63/4000\n",
      "5/5 [==============================] - 0s 4ms/step - loss: 0.8890 - accuracy: 0.6778 - val_loss: 0.9029 - val_accuracy: 0.7000\n",
      "Epoch 64/4000\n",
      "5/5 [==============================] - 0s 6ms/step - loss: 0.8867 - accuracy: 0.6778 - val_loss: 0.9003 - val_accuracy: 0.7000\n",
      "Epoch 65/4000\n",
      "5/5 [==============================] - 0s 3ms/step - loss: 0.8842 - accuracy: 0.6778 - val_loss: 0.8978 - val_accuracy: 0.7000\n",
      "Epoch 66/4000\n",
      "5/5 [==============================] - 0s 4ms/step - loss: 0.8820 - accuracy: 0.6778 - val_loss: 0.8951 - val_accuracy: 0.7000\n",
      "Epoch 67/4000\n",
      "5/5 [==============================] - 0s 6ms/step - loss: 0.8793 - accuracy: 0.6778 - val_loss: 0.8925 - val_accuracy: 0.7000\n",
      "Epoch 68/4000\n",
      "5/5 [==============================] - 0s 6ms/step - loss: 0.8769 - accuracy: 0.6778 - val_loss: 0.8897 - val_accuracy: 0.7000\n",
      "Epoch 69/4000\n",
      "5/5 [==============================] - 0s 3ms/step - loss: 0.8743 - accuracy: 0.6778 - val_loss: 0.8871 - val_accuracy: 0.7000\n",
      "Epoch 70/4000\n",
      "5/5 [==============================] - 0s 3ms/step - loss: 0.8718 - accuracy: 0.6778 - val_loss: 0.8843 - val_accuracy: 0.7000\n",
      "Epoch 71/4000\n",
      "5/5 [==============================] - 0s 6ms/step - loss: 0.8692 - accuracy: 0.6778 - val_loss: 0.8816 - val_accuracy: 0.7000\n",
      "Epoch 72/4000\n",
      "5/5 [==============================] - 0s 4ms/step - loss: 0.8667 - accuracy: 0.6778 - val_loss: 0.8788 - val_accuracy: 0.7000\n",
      "Epoch 73/4000\n",
      "5/5 [==============================] - 0s 6ms/step - loss: 0.8642 - accuracy: 0.6778 - val_loss: 0.8761 - val_accuracy: 0.7000\n"
     ]
    }
   ],
   "source": [
    "es = EarlyStopping(monitor='val_accuracy', patience=30, min_delta=0.0001)\n",
    "\n",
    "H = model.fit(x = X_train, y = Y_trainB, epochs=4000, batch_size = 20, \n",
    "              validation_data = (X_val, Y_valB),  callbacks=[es])"
   ]
  },
  {
   "cell_type": "code",
   "execution_count": 9,
   "id": "6864106a",
   "metadata": {},
   "outputs": [
    {
     "name": "stdout",
     "output_type": "stream",
     "text": [
      "épocas = 73\n",
      "Epocas = 72\n"
     ]
    }
   ],
   "source": [
    "print(\"épocas = %d\" % len(H.history[\"val_accuracy\"]))   \n",
    "print(\"Epocas = %d\" % es.stopped_epoch)"
   ]
  },
  {
   "cell_type": "code",
   "execution_count": 10,
   "id": "e56f2f4a",
   "metadata": {},
   "outputs": [
    {
     "name": "stdout",
     "output_type": "stream",
     "text": [
      "% aciertos X_train : 0.678\n"
     ]
    }
   ],
   "source": [
    "# predecir la salida del modelo\n",
    "Y_pred = model.predict(X_train)\n",
    "Y_pred2 = np.argmax(Y_pred,axis=1)\n",
    "\n",
    "Y_train = Y_train[:-30]   # usar la misma cantidad que los empleados en el entrenamiento\n",
    "\n",
    "print(\"%% aciertos X_train : %.3f\" % metrics.accuracy_score(Y_train, Y_pred2))"
   ]
  },
  {
   "cell_type": "code",
   "execution_count": 11,
   "id": "a2d2c239",
   "metadata": {},
   "outputs": [
    {
     "name": "stdout",
     "output_type": "stream",
     "text": [
      "Confusion matrix Training:\n",
      "              precision    recall  f1-score   support\n",
      "\n",
      "           0       1.00      1.00      1.00        28\n",
      "           1       1.00      0.03      0.06        30\n",
      "           2       0.52      1.00      0.69        32\n",
      "\n",
      "    accuracy                           0.68        90\n",
      "   macro avg       0.84      0.68      0.58        90\n",
      "weighted avg       0.83      0.68      0.58        90\n",
      "\n",
      "Confusion matrix:\n",
      "[[28  0  0]\n",
      " [ 0  1 29]\n",
      " [ 0  0 32]]\n"
     ]
    }
   ],
   "source": [
    "report = metrics.classification_report(Y_train, Y_pred2)\n",
    "print(\"Confusion matrix Training:\\n%s\" % report) \n",
    "\n",
    "MM = metrics.confusion_matrix(Y_train, Y_pred2)\n",
    "print(\"Confusion matrix:\\n%s\" % MM)"
   ]
  },
  {
   "cell_type": "code",
   "execution_count": null,
   "id": "a323f3b3",
   "metadata": {},
   "outputs": [],
   "source": []
  }
 ],
 "metadata": {
  "kernelspec": {
   "display_name": "Python 3 (ipykernel)",
   "language": "python",
   "name": "python3"
  },
  "language_info": {
   "codemirror_mode": {
    "name": "ipython",
    "version": 3
   },
   "file_extension": ".py",
   "mimetype": "text/x-python",
   "name": "python",
   "nbconvert_exporter": "python",
   "pygments_lexer": "ipython3",
   "version": "3.7.11"
  }
 },
 "nbformat": 4,
 "nbformat_minor": 5
}
